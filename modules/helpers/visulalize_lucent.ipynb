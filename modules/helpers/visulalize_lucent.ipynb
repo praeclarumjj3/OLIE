{
 "cells": [
  {
   "cell_type": "code",
   "execution_count": null,
   "metadata": {},
   "outputs": [],
   "source": [
    "!pip install torch-lucent"
   ]
  },
  {
   "cell_type": "code",
   "execution_count": null,
   "metadata": {},
   "outputs": [],
   "source": [
    "from torch._C import device\n",
    "import torch\n",
    "from torch import nn\n",
    "from adet.config import get_cfg\n",
    "from modules.solov2 import SOLOv2\n",
    "from modules.reconstructor import Reconstructor\n",
    "import matplotlib.pyplot as plt\n",
    "import argparse\n",
    "import os\n",
    "import warnings\n",
    "from detectron2.utils.logger import setup_logger\n",
    "import glob\n",
    "import time\n",
    "import torchvision.transforms as transforms\n",
    "from detectron2.checkpoint import DetectionCheckpointer\n",
    "from detectron2.data.detection_utils import read_image\n",
    "from run import Editor\n",
    "from utils import visualize_kernels\n",
    "from lucent.modelzoo.util import get_model_layers\n",
    "from lucent.optvis import render, param, transform, objectives"
   ]
  },
  {
   "cell_type": "code",
   "execution_count": null,
   "metadata": {},
   "outputs": [],
   "source": [
    "def setup_cfg(args):\n",
    "    # load config from file and command-line arguments\n",
    "    cfg = get_cfg()\n",
    "    cfg.merge_from_file(args.config_file)\n",
    "    cfg.merge_from_list(args.opts)\n",
    "    cfg.freeze()\n",
    "    return cfg\n",
    "\n",
    "## Before running, remember to update the args!\n",
    "def get_parser():\n",
    "    parser = argparse.ArgumentParser(description=\"SOLOv2 Editor\")\n",
    "    parser.add_argument(\n",
    "        \"--config-file\",\n",
    "        default=\"../configs/R50_3x.yaml\",\n",
    "        metavar=\"FILE\",\n",
    "        help=\"path to config file\",\n",
    "    )\n",
    "    parser.add_argument(\"--input\", nargs=\"+\",default=['../inputs/bg.jpg'], help=\"A list of space separated test images\")\n",
    "    parser.add_argument(\n",
    "        \"--opts\",\n",
    "        help=\"Modify config options using the command-line 'KEY VALUE' pairs\",\n",
    "        default=['MODEL.WEIGHTS', '../SOLOv2_R50_3x.pth'],\n",
    "        nargs=argparse.REMAINDER,\n",
    "    )\n",
    "    parser.add_argument(\n",
    "        \"--PATH\",\n",
    "        help=\"Path of the saved editor\",\n",
    "        default='../checkpoints/editor_grouped.pth',\n",
    "        type=str\n",
    "    )\n",
    "    return parser"
   ]
  },
  {
   "cell_type": "code",
   "execution_count": null,
   "metadata": {},
   "outputs": [],
   "source": [
    "%tb\n",
    "args, unknown = get_parser().parse_known_args()\n",
    "device = torch.device(\"cuda\" if torch.cuda.is_available() else \"cpu\")\n",
    "cfg = setup_cfg(args)\n",
    "\n",
    "solo = SOLOv2(cfg=cfg).to(device)\n",
    "checkpointer = DetectionCheckpointer(solo)\n",
    "checkpointer.load(cfg.MODEL.WEIGHTS)\n",
    "\n",
    "for param in solo.parameters():\n",
    "    param.requires_grad = False\n",
    "\n",
    "image = torch.rand(3,64,64)\n",
    "batched_input = []\n",
    "batched_input.append(image)\n",
    "r,_ = solo(batched_input)\n",
    "\n",
    "reconstructor = Reconstructor(in_channels=r.shape[1])\n",
    "\n",
    "editor_demo =Editor(solo, reconstructor)\n",
    "editor_demo.load_state_dict(torch.load(args.PATH))\n",
    "editor_demo.to(device).eval()\n",
    "\n",
    "layers = get_model_layers(editor_demo)[198:]\n",
    "\n",
    "for l in layers:\n",
    "    print(l)\n",
    "\n",
    "_ = render.render_vis(editor_demo, \"reconstructor_encoder_conv1:45\", show_inline=True)"
   ]
  },
  {
   "cell_type": "code",
   "execution_count": null,
   "metadata": {},
   "outputs": [],
   "source": []
  }
 ],
 "metadata": {
  "kernelspec": {
   "display_name": "olie",
   "language": "python",
   "name": "olie"
  },
  "language_info": {
   "codemirror_mode": {
    "name": "ipython",
    "version": 3
   },
   "file_extension": ".py",
   "mimetype": "text/x-python",
   "name": "python",
   "nbconvert_exporter": "python",
   "pygments_lexer": "ipython3",
   "version": "3.8.5"
  }
 },
 "nbformat": 4,
 "nbformat_minor": 4
}
